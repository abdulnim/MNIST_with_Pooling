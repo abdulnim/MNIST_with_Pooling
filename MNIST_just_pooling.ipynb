{
 "cells": [
  {
   "cell_type": "code",
   "execution_count": 1,
   "id": "83cff66b",
   "metadata": {},
   "outputs": [],
   "source": [
    "import torch\n",
    "import torchvision\n",
    "import torchvision.transforms as transforms\n",
    "import torch.nn as nn\n",
    "import torch.optim as optim\n",
    "import matplotlib.pyplot as plt\n",
    "import numpy as np"
   ]
  },
  {
   "cell_type": "code",
   "execution_count": 2,
   "id": "0bc66651",
   "metadata": {},
   "outputs": [
    {
     "data": {
      "text/plain": [
       "device(type='cuda', index=0)"
      ]
     },
     "execution_count": 2,
     "metadata": {},
     "output_type": "execute_result"
    }
   ],
   "source": [
    "device = torch.device(\"cuda:0\" if torch.cuda.is_available() else \"cpu\") \n",
    "device"
   ]
  },
  {
   "cell_type": "code",
   "execution_count": 3,
   "id": "c4fbdae6",
   "metadata": {
    "scrolled": true
   },
   "outputs": [],
   "source": [
    "#To Transform Images to tensor and normalize\n",
    "transform = transforms.Compose(\n",
    "                            [transforms.ToTensor(),\n",
    "                            transforms.Normalize((0.5,), (0.5,))])\n",
    "# Lets load the MNIST dataset\n",
    "trainset = torchvision.datasets.MNIST(root='./data', train=True,download=True, transform=transform)\n",
    "trainloader = torch.utils.data.DataLoader(trainset, batch_size=4,shuffle=True, num_workers=2)\n",
    "\n",
    "testset = torchvision.datasets.MNIST(root='./data', train=False,download=True, transform=transform)\n",
    "testloader = torch.utils.data.DataLoader(testset, batch_size=4,shuffle=False, num_workers=2)"
   ]
  },
  {
   "cell_type": "markdown",
   "id": "ef81ffe5",
   "metadata": {},
   "source": [
    "### Lets create a very simple Model with pool layer"
   ]
  },
  {
   "cell_type": "code",
   "execution_count": 4,
   "id": "c85cf91f",
   "metadata": {},
   "outputs": [],
   "source": [
    "class MaxPoolModel(nn.Module):\n",
    "    def __init__(self):\n",
    "        super(MaxPoolModel, self).__init__()\n",
    "        self.pool1 = nn.MaxPool2d(2, 2) # 28x28 -> 14x14\n",
    "        self.pool2 = nn.MaxPool2d(2, 2) # 14x14 -> 7x7\n",
    "        self.fc = nn.Linear(7*7, 10)  # 49 to 10 (for 10 classes)\n",
    "        # we need a fc layer in the end as we need to learn and adjust some parameters atleast\n",
    "    def forward(self, x):\n",
    "        x = self.pool1(x)\n",
    "        x = self.pool2(x)\n",
    "        x = x.view(-1, 7*7)\n",
    "        x = self.fc(x)\n",
    "        return x"
   ]
  },
  {
   "cell_type": "code",
   "execution_count": 5,
   "id": "0243021b",
   "metadata": {},
   "outputs": [
    {
     "name": "stdout",
     "output_type": "stream",
     "text": [
      "[1,  2000] loss: 1.120\n",
      "[1,  4000] loss: 0.713\n",
      "[1,  6000] loss: 0.650\n",
      "[1,  8000] loss: 0.623\n",
      "[1, 10000] loss: 0.619\n",
      "[1, 12000] loss: 0.576\n",
      "[1, 14000] loss: 0.584\n",
      "[2,  2000] loss: 0.571\n",
      "[2,  4000] loss: 0.567\n",
      "[2,  6000] loss: 0.535\n",
      "[2,  8000] loss: 0.562\n",
      "[2, 10000] loss: 0.552\n",
      "[2, 12000] loss: 0.565\n",
      "[2, 14000] loss: 0.537\n",
      "[3,  2000] loss: 0.541\n",
      "[3,  4000] loss: 0.533\n",
      "[3,  6000] loss: 0.550\n",
      "[3,  8000] loss: 0.538\n",
      "[3, 10000] loss: 0.533\n",
      "[3, 12000] loss: 0.552\n",
      "[3, 14000] loss: 0.530\n",
      "[4,  2000] loss: 0.550\n",
      "[4,  4000] loss: 0.512\n",
      "[4,  6000] loss: 0.537\n",
      "[4,  8000] loss: 0.534\n",
      "[4, 10000] loss: 0.547\n",
      "[4, 12000] loss: 0.540\n",
      "[4, 14000] loss: 0.515\n",
      "[5,  2000] loss: 0.541\n",
      "[5,  4000] loss: 0.518\n",
      "[5,  6000] loss: 0.528\n",
      "[5,  8000] loss: 0.523\n",
      "[5, 10000] loss: 0.536\n",
      "[5, 12000] loss: 0.527\n",
      "[5, 14000] loss: 0.548\n",
      "Finished Training\n"
     ]
    }
   ],
   "source": [
    "model = MaxPoolModel().to(device)\n",
    "criterion = nn.CrossEntropyLoss()\n",
    "optimizer = optim.SGD(model.parameters(), lr=0.001, momentum=0.9)\n",
    "\n",
    "for epoch in range(5):  # Loop over the dataset multiple times\n",
    "    running_loss = 0.0\n",
    "    for i, data in enumerate(trainloader, 0):\n",
    "        inputs, labels = data[0].to(device), data[1].to(device)\n",
    "\n",
    "        optimizer.zero_grad()\n",
    "\n",
    "        outputs = model(inputs)\n",
    "        loss = criterion(outputs, labels)\n",
    "        loss.backward()\n",
    "        optimizer.step()\n",
    "\n",
    "        running_loss += loss.item()\n",
    "        if i % 2000 == 1999:  # Print every 2000 mini-batches\n",
    "            print('[%d, %5d] loss: %.3f' %(epoch + 1, i + 1, running_loss / 2000))\n",
    "            running_loss = 0.0\n",
    "\n",
    "print('Finished Training')\n"
   ]
  },
  {
   "cell_type": "code",
   "execution_count": 6,
   "id": "a33e0dd7",
   "metadata": {},
   "outputs": [
    {
     "name": "stdout",
     "output_type": "stream",
     "text": [
      "Accuracy of the network on the 10000 test images: 83 %\n"
     ]
    }
   ],
   "source": [
    "correct = 0\n",
    "total = 0\n",
    "with torch.no_grad():\n",
    "    for data in testloader:\n",
    "        images, labels = data[0].to(device), data[1].to(device)\n",
    "        outputs = model(images)\n",
    "        _, predicted = torch.max(outputs.data, 1)\n",
    "        total += labels.size(0)\n",
    "        correct += (predicted == labels).sum().item()\n",
    "\n",
    "print('Accuracy of the network on the 10000 test images: %d %%' % (100 * correct / total))"
   ]
  },
  {
   "cell_type": "code",
   "execution_count": 11,
   "id": "138bbeae",
   "metadata": {},
   "outputs": [
    {
     "data": {
      "image/png": "[encoded data removed]",
      "text/plain": [
       "<Figure size 1200x300 with 10 Axes>"
      ]
     },
     "metadata": {},
     "output_type": "display_data"
    }
   ],
   "source": [
    "def imshow_grid(images, labels, predictions):\n",
    "    \"\"\"Display a grid of images with their labels and predictions.\"\"\"\n",
    "    n_images = images.shape[0]\n",
    "    fig, axes = plt.subplots(1, n_images, figsize=(12, 3))\n",
    "    for idx, ax in enumerate(axes):\n",
    "        # Display the image\n",
    "        img = images[idx] / 2 + 0.5  # Unnormalize\n",
    "        ax.imshow(img.squeeze().numpy(), cmap='gray') \n",
    "        \n",
    "        ax.set_title(f\"Actual: {labels[idx].item()}\\nPred: {predictions[idx].item()}\")\n",
    "        ax.axis('off')\n",
    "    plt.tight_layout()\n",
    "    plt.show()\n",
    "\n",
    "batch_size_display = 10\n",
    "testloader_new = torch.utils.data.DataLoader(testset, batch_size=batch_size_display,shuffle=True, num_workers=2)\n",
    "\n",
    "images, labels = next(iter(testloader_new))\n",
    "\n",
    "# Predict using the model\n",
    "outputs = model(images.to(device))\n",
    "_, predicted = torch.max(outputs, 1)\n",
    "\n",
    "imshow_grid(images, labels, predicted)\n"
   ]
  },
  {
   "cell_type": "code",
   "execution_count": null,
   "id": "1fcc1e3b",
   "metadata": {},
   "outputs": [],
   "source": []
  }
 ],
 "metadata": {
  "kernelspec": {
   "display_name": "Python 3 (ipykernel)",
   "language": "python",
   "name": "python3"
  },
  "language_info": {
   "codemirror_mode": {
    "name": "ipython",
    "version": 3
   },
   "file_extension": ".py",
   "mimetype": "text/x-python",
   "name": "python",
   "nbconvert_exporter": "python",
   "pygments_lexer": "ipython3",
   "version": "3.10.4"
  }
 },
 "nbformat": 4,
 "nbformat_minor": 5
}
